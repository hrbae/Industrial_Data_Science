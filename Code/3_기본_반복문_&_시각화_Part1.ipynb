{
  "nbformat": 4,
  "nbformat_minor": 0,
  "metadata": {
    "colab": {
      "provenance": [],
      "collapsed_sections": [],
      "include_colab_link": true
    },
    "kernelspec": {
      "name": "python3",
      "display_name": "Python 3"
    }
  },
  "cells": [
    {
      "cell_type": "markdown",
      "metadata": {
        "id": "view-in-github",
        "colab_type": "text"
      },
      "source": [
        "<a href=\"https://colab.research.google.com/github/hrbae/Industrial_Data_Science/blob/main/Code/3_%EA%B8%B0%EB%B3%B8_%EB%B0%98%EB%B3%B5%EB%AC%B8_%26_%EC%8B%9C%EA%B0%81%ED%99%94_Part1.ipynb\" target=\"_parent\"><img src=\"https://colab.research.google.com/assets/colab-badge.svg\" alt=\"Open In Colab\"/></a>"
      ]
    },
    {
      "cell_type": "code",
      "metadata": {
        "id": "TRXabv1y7OWt"
      },
      "source": [
        "import pandas as pd\n",
        "import numpy as np\n",
        "from google.colab import drive"
      ],
      "execution_count": null,
      "outputs": []
    },
    {
      "cell_type": "code",
      "metadata": {
        "id": "LWcQx-Jo8I2x",
        "colab": {
          "base_uri": "https://localhost:8080/",
          "height": 34
        },
        "outputId": "22834e10-f178-499f-dae7-08c8383c17c7"
      },
      "source": [
        "drive.mount('/content/gdriv')"
      ],
      "execution_count": null,
      "outputs": [
        {
          "output_type": "stream",
          "text": [
            "Drive already mounted at /content/gdriv; to attempt to forcibly remount, call drive.mount(\"/content/gdriv\", force_remount=True).\n"
          ],
          "name": "stdout"
        }
      ]
    },
    {
      "cell_type": "code",
      "metadata": {
        "id": "zJ1TI4tj8Ukg",
        "colab": {
          "base_uri": "https://localhost:8080/",
          "height": 197
        },
        "outputId": "5f1b3f04-9f22-4114-8b1a-9954e4783ce2"
      },
      "source": [
        "import os\n",
        "data_path = \"/content/gdriv/My Drive/Colab Notebooks/Data\" \n",
        "data_name = os.listdir(data_path)\n",
        "\n",
        "iris = pd.read_csv(data_path + '/' + data_name[0])\n",
        "iris.head()"
      ],
      "execution_count": null,
      "outputs": [
        {
          "output_type": "execute_result",
          "data": {
            "text/html": [
              "<div>\n",
              "<style scoped>\n",
              "    .dataframe tbody tr th:only-of-type {\n",
              "        vertical-align: middle;\n",
              "    }\n",
              "\n",
              "    .dataframe tbody tr th {\n",
              "        vertical-align: top;\n",
              "    }\n",
              "\n",
              "    .dataframe thead th {\n",
              "        text-align: right;\n",
              "    }\n",
              "</style>\n",
              "<table border=\"1\" class=\"dataframe\">\n",
              "  <thead>\n",
              "    <tr style=\"text-align: right;\">\n",
              "      <th></th>\n",
              "      <th>Id</th>\n",
              "      <th>SepalLengthCm</th>\n",
              "      <th>SepalWidthCm</th>\n",
              "      <th>PetalLengthCm</th>\n",
              "      <th>PetalWidthCm</th>\n",
              "      <th>Species</th>\n",
              "    </tr>\n",
              "  </thead>\n",
              "  <tbody>\n",
              "    <tr>\n",
              "      <th>0</th>\n",
              "      <td>1</td>\n",
              "      <td>5.1</td>\n",
              "      <td>3.5</td>\n",
              "      <td>1.4</td>\n",
              "      <td>0.2</td>\n",
              "      <td>Iris-setosa</td>\n",
              "    </tr>\n",
              "    <tr>\n",
              "      <th>1</th>\n",
              "      <td>2</td>\n",
              "      <td>4.9</td>\n",
              "      <td>3.0</td>\n",
              "      <td>1.4</td>\n",
              "      <td>0.2</td>\n",
              "      <td>Iris-setosa</td>\n",
              "    </tr>\n",
              "    <tr>\n",
              "      <th>2</th>\n",
              "      <td>3</td>\n",
              "      <td>4.7</td>\n",
              "      <td>3.2</td>\n",
              "      <td>1.3</td>\n",
              "      <td>0.2</td>\n",
              "      <td>Iris-setosa</td>\n",
              "    </tr>\n",
              "    <tr>\n",
              "      <th>3</th>\n",
              "      <td>4</td>\n",
              "      <td>4.6</td>\n",
              "      <td>3.1</td>\n",
              "      <td>1.5</td>\n",
              "      <td>0.2</td>\n",
              "      <td>Iris-setosa</td>\n",
              "    </tr>\n",
              "    <tr>\n",
              "      <th>4</th>\n",
              "      <td>5</td>\n",
              "      <td>5.0</td>\n",
              "      <td>3.6</td>\n",
              "      <td>1.4</td>\n",
              "      <td>0.2</td>\n",
              "      <td>Iris-setosa</td>\n",
              "    </tr>\n",
              "  </tbody>\n",
              "</table>\n",
              "</div>"
            ],
            "text/plain": [
              "   Id  SepalLengthCm  SepalWidthCm  PetalLengthCm  PetalWidthCm      Species\n",
              "0   1            5.1           3.5            1.4           0.2  Iris-setosa\n",
              "1   2            4.9           3.0            1.4           0.2  Iris-setosa\n",
              "2   3            4.7           3.2            1.3           0.2  Iris-setosa\n",
              "3   4            4.6           3.1            1.5           0.2  Iris-setosa\n",
              "4   5            5.0           3.6            1.4           0.2  Iris-setosa"
            ]
          },
          "metadata": {
            "tags": []
          },
          "execution_count": 90
        }
      ]
    },
    {
      "cell_type": "markdown",
      "metadata": {
        "id": "DUEV9-9cCe-M"
      },
      "source": [
        "# 반복 구문 "
      ]
    },
    {
      "cell_type": "markdown",
      "metadata": {
        "id": "044dQcwvPNrZ"
      },
      "source": [
        "* for 구문 이용해서 반복작업 수행하기"
      ]
    },
    {
      "cell_type": "code",
      "metadata": {
        "id": "TtzXCZSwPJI1",
        "colab": {
          "base_uri": "https://localhost:8080/",
          "height": 194
        },
        "outputId": "df79aed6-240e-4629-ac53-03eb41951a41"
      },
      "source": [
        "for n in range(1,11):\n",
        "  print(n)"
      ],
      "execution_count": null,
      "outputs": [
        {
          "output_type": "stream",
          "text": [
            "1\n",
            "2\n",
            "3\n",
            "4\n",
            "5\n",
            "6\n",
            "7\n",
            "8\n",
            "9\n",
            "10\n"
          ],
          "name": "stdout"
        }
      ]
    },
    {
      "cell_type": "markdown",
      "metadata": {
        "id": "1q5sTV4w8chL"
      },
      "source": [
        "\n",
        "> 수열 4n+3 구현해보기 (n=1,...,10)\n",
        "\n",
        "> 7, 11, ..., 43"
      ]
    },
    {
      "cell_type": "code",
      "metadata": {
        "id": "LgCCW3Ze8WIT",
        "colab": {
          "base_uri": "https://localhost:8080/",
          "height": 194
        },
        "outputId": "2e378949-8c0c-4a2e-931b-e948b06f9a26"
      },
      "source": [
        "for i in range(1,11):\n",
        "  print(4*i+3)"
      ],
      "execution_count": null,
      "outputs": [
        {
          "output_type": "stream",
          "text": [
            "7\n",
            "11\n",
            "15\n",
            "19\n",
            "23\n",
            "27\n",
            "31\n",
            "35\n",
            "39\n",
            "43\n"
          ],
          "name": "stdout"
        }
      ]
    },
    {
      "cell_type": "code",
      "metadata": {
        "id": "-ix6SqwSDwkI",
        "colab": {
          "base_uri": "https://localhost:8080/",
          "height": 52
        },
        "outputId": "54fb84f7-8970-443a-cdff-0b29b559a3cc"
      },
      "source": [
        "# Empty list 정의\n",
        "dt = [1]\n",
        "print(dt)\n",
        "dt.append(2)\n",
        "print(dt)"
      ],
      "execution_count": null,
      "outputs": [
        {
          "output_type": "stream",
          "text": [
            "[1]\n",
            "[1, 2]\n"
          ],
          "name": "stdout"
        }
      ]
    },
    {
      "cell_type": "code",
      "metadata": {
        "id": "J1hmAgXhSNjw",
        "colab": {
          "base_uri": "https://localhost:8080/",
          "height": 34
        },
        "outputId": "cb7120f3-79b1-412b-842f-53272530b049"
      },
      "source": [
        "del dt[0]\n",
        "print(dt)"
      ],
      "execution_count": null,
      "outputs": [
        {
          "output_type": "stream",
          "text": [
            "[2]\n"
          ],
          "name": "stdout"
        }
      ]
    },
    {
      "cell_type": "code",
      "metadata": {
        "id": "tcMV5D4-SfZi"
      },
      "source": [
        "dt = []"
      ],
      "execution_count": null,
      "outputs": []
    },
    {
      "cell_type": "code",
      "metadata": {
        "id": "xnjLY8WkSmfV",
        "colab": {
          "base_uri": "https://localhost:8080/",
          "height": 87
        },
        "outputId": "211b90da-10dd-4085-cc71-f7a398b44d8a"
      },
      "source": [
        "iris['Species'].value_counts()"
      ],
      "execution_count": null,
      "outputs": [
        {
          "output_type": "execute_result",
          "data": {
            "text/plain": [
              "Iris-versicolor    50\n",
              "Iris-setosa        50\n",
              "Iris-virginica     50\n",
              "Name: Species, dtype: int64"
            ]
          },
          "metadata": {
            "tags": []
          },
          "execution_count": 108
        }
      ]
    },
    {
      "cell_type": "code",
      "metadata": {
        "id": "wSVsuyPvD8GT",
        "colab": {
          "base_uri": "https://localhost:8080/",
          "height": 34
        },
        "outputId": "aca38c8d-69a6-404b-a0ba-11a9cd0cdc3f"
      },
      "source": [
        "idx = iris['Species'].value_counts().index\n",
        "print(idx)"
      ],
      "execution_count": null,
      "outputs": [
        {
          "output_type": "stream",
          "text": [
            "Index(['Iris-versicolor', 'Iris-setosa', 'Iris-virginica'], dtype='object')\n"
          ],
          "name": "stdout"
        }
      ]
    },
    {
      "cell_type": "code",
      "metadata": {
        "id": "hI_RifhOSvmP",
        "colab": {
          "base_uri": "https://localhost:8080/",
          "height": 34
        },
        "outputId": "141a4d1f-d62c-488e-a462-24d790995223"
      },
      "source": [
        "len(idx)"
      ],
      "execution_count": null,
      "outputs": [
        {
          "output_type": "execute_result",
          "data": {
            "text/plain": [
              "3"
            ]
          },
          "metadata": {
            "tags": []
          },
          "execution_count": 110
        }
      ]
    },
    {
      "cell_type": "code",
      "metadata": {
        "id": "dzElAq9REEgP",
        "colab": {
          "base_uri": "https://localhost:8080/",
          "height": 70
        },
        "outputId": "30faff0d-4f42-44ff-d7b0-226dbaf4d558"
      },
      "source": [
        "# Loop 이용해서 idx 순서대로 출력하기\n",
        "for i in range(len(idx)):\n",
        "  print(i, idx[i])"
      ],
      "execution_count": null,
      "outputs": [
        {
          "output_type": "stream",
          "text": [
            "0 Iris-versicolor\n",
            "1 Iris-setosa\n",
            "2 Iris-virginica\n"
          ],
          "name": "stdout"
        }
      ]
    },
    {
      "cell_type": "code",
      "metadata": {
        "id": "SQhMzM3LS97p",
        "colab": {
          "base_uri": "https://localhost:8080/",
          "height": 70
        },
        "outputId": "73220559-cd61-40ab-9991-4acc4bd04db3"
      },
      "source": [
        "print(idx[0])\n",
        "print(idx[1])\n",
        "print(idx[2])"
      ],
      "execution_count": null,
      "outputs": [
        {
          "output_type": "stream",
          "text": [
            "Iris-versicolor\n",
            "Iris-setosa\n",
            "Iris-virginica\n"
          ],
          "name": "stdout"
        }
      ]
    },
    {
      "cell_type": "code",
      "metadata": {
        "id": "wY9SBpUFEX2o",
        "colab": {
          "base_uri": "https://localhost:8080/",
          "height": 407
        },
        "outputId": "5fcee3ed-c197-4770-eac5-95d35fc8fd99"
      },
      "source": [
        "# Loop 이용해서 idx값와 동일한 데이터를 추출해서 list에 담기\n",
        "for i in range(len(idx)):\n",
        "  print(iris.loc[iris['Species']==idx[i],:].head())\n",
        "\n",
        "for i in range(len(idx)):\n",
        "  dt.append(iris.loc[iris['Species']==idx[i],:])"
      ],
      "execution_count": null,
      "outputs": [
        {
          "output_type": "stream",
          "text": [
            "    Id  SepalLengthCm  ...  PetalWidthCm          Species\n",
            "50  51            7.0  ...           1.4  Iris-versicolor\n",
            "51  52            6.4  ...           1.5  Iris-versicolor\n",
            "52  53            6.9  ...           1.5  Iris-versicolor\n",
            "53  54            5.5  ...           1.3  Iris-versicolor\n",
            "54  55            6.5  ...           1.5  Iris-versicolor\n",
            "\n",
            "[5 rows x 6 columns]\n",
            "   Id  SepalLengthCm  SepalWidthCm  PetalLengthCm  PetalWidthCm      Species\n",
            "0   1            5.1           3.5            1.4           0.2  Iris-setosa\n",
            "1   2            4.9           3.0            1.4           0.2  Iris-setosa\n",
            "2   3            4.7           3.2            1.3           0.2  Iris-setosa\n",
            "3   4            4.6           3.1            1.5           0.2  Iris-setosa\n",
            "4   5            5.0           3.6            1.4           0.2  Iris-setosa\n",
            "      Id  SepalLengthCm  ...  PetalWidthCm         Species\n",
            "100  101            6.3  ...           2.5  Iris-virginica\n",
            "101  102            5.8  ...           1.9  Iris-virginica\n",
            "102  103            7.1  ...           2.1  Iris-virginica\n",
            "103  104            6.3  ...           1.8  Iris-virginica\n",
            "104  105            6.5  ...           2.2  Iris-virginica\n",
            "\n",
            "[5 rows x 6 columns]\n"
          ],
          "name": "stdout"
        }
      ]
    },
    {
      "cell_type": "code",
      "metadata": {
        "id": "5WYfooZFEywe",
        "colab": {
          "base_uri": "https://localhost:8080/",
          "height": 958
        },
        "outputId": "2decfd5f-ba49-4639-9a94-a9bc46b15c58"
      },
      "source": [
        "print(dt[2])"
      ],
      "execution_count": null,
      "outputs": [
        {
          "output_type": "stream",
          "text": [
            "      Id  SepalLengthCm  ...  PetalWidthCm         Species\n",
            "100  101            6.3  ...           2.5  Iris-virginica\n",
            "101  102            5.8  ...           1.9  Iris-virginica\n",
            "102  103            7.1  ...           2.1  Iris-virginica\n",
            "103  104            6.3  ...           1.8  Iris-virginica\n",
            "104  105            6.5  ...           2.2  Iris-virginica\n",
            "105  106            7.6  ...           2.1  Iris-virginica\n",
            "106  107            4.9  ...           1.7  Iris-virginica\n",
            "107  108            7.3  ...           1.8  Iris-virginica\n",
            "108  109            6.7  ...           1.8  Iris-virginica\n",
            "109  110            7.2  ...           2.5  Iris-virginica\n",
            "110  111            6.5  ...           2.0  Iris-virginica\n",
            "111  112            6.4  ...           1.9  Iris-virginica\n",
            "112  113            6.8  ...           2.1  Iris-virginica\n",
            "113  114            5.7  ...           2.0  Iris-virginica\n",
            "114  115            5.8  ...           2.4  Iris-virginica\n",
            "115  116            6.4  ...           2.3  Iris-virginica\n",
            "116  117            6.5  ...           1.8  Iris-virginica\n",
            "117  118            7.7  ...           2.2  Iris-virginica\n",
            "118  119            7.7  ...           2.3  Iris-virginica\n",
            "119  120            6.0  ...           1.5  Iris-virginica\n",
            "120  121            6.9  ...           2.3  Iris-virginica\n",
            "121  122            5.6  ...           2.0  Iris-virginica\n",
            "122  123            7.7  ...           2.0  Iris-virginica\n",
            "123  124            6.3  ...           1.8  Iris-virginica\n",
            "124  125            6.7  ...           2.1  Iris-virginica\n",
            "125  126            7.2  ...           1.8  Iris-virginica\n",
            "126  127            6.2  ...           1.8  Iris-virginica\n",
            "127  128            6.1  ...           1.8  Iris-virginica\n",
            "128  129            6.4  ...           2.1  Iris-virginica\n",
            "129  130            7.2  ...           1.6  Iris-virginica\n",
            "130  131            7.4  ...           1.9  Iris-virginica\n",
            "131  132            7.9  ...           2.0  Iris-virginica\n",
            "132  133            6.4  ...           2.2  Iris-virginica\n",
            "133  134            6.3  ...           1.5  Iris-virginica\n",
            "134  135            6.1  ...           1.4  Iris-virginica\n",
            "135  136            7.7  ...           2.3  Iris-virginica\n",
            "136  137            6.3  ...           2.4  Iris-virginica\n",
            "137  138            6.4  ...           1.8  Iris-virginica\n",
            "138  139            6.0  ...           1.8  Iris-virginica\n",
            "139  140            6.9  ...           2.1  Iris-virginica\n",
            "140  141            6.7  ...           2.4  Iris-virginica\n",
            "141  142            6.9  ...           2.3  Iris-virginica\n",
            "142  143            5.8  ...           1.9  Iris-virginica\n",
            "143  144            6.8  ...           2.3  Iris-virginica\n",
            "144  145            6.7  ...           2.5  Iris-virginica\n",
            "145  146            6.7  ...           2.3  Iris-virginica\n",
            "146  147            6.3  ...           1.9  Iris-virginica\n",
            "147  148            6.5  ...           2.0  Iris-virginica\n",
            "148  149            6.2  ...           2.3  Iris-virginica\n",
            "149  150            5.9  ...           1.8  Iris-virginica\n",
            "\n",
            "[50 rows x 6 columns]\n"
          ],
          "name": "stdout"
        }
      ]
    },
    {
      "cell_type": "markdown",
      "metadata": {
        "id": "gL1TTdWcCZr4"
      },
      "source": [
        "# 기본 시각화 하기"
      ]
    },
    {
      "cell_type": "code",
      "metadata": {
        "id": "UbZZdLY9Ag6k"
      },
      "source": [
        "import matplotlib.pyplot as plt\n",
        "import seaborn as sns"
      ],
      "execution_count": null,
      "outputs": []
    },
    {
      "cell_type": "markdown",
      "metadata": {
        "id": "SN2duPsxAlDw"
      },
      "source": [
        "* 히스토그램"
      ]
    },
    {
      "cell_type": "code",
      "metadata": {
        "id": "kZYtEWnhAn9T",
        "colab": {
          "base_uri": "https://localhost:8080/",
          "height": 264
        },
        "outputId": "a747e2e4-b45f-483a-b1f7-abc7cf2ba124"
      },
      "source": [
        "hist = plt.hist(iris['PetalLengthCm'])"
      ],
      "execution_count": null,
      "outputs": [
        {
          "output_type": "display_data",
          "data": {
            "image/png": "[encoded data removed]",
            "text/plain": [
              "<Figure size 432x288 with 1 Axes>"
            ]
          },
          "metadata": {
            "tags": [],
            "needs_background": "light"
          }
        }
      ]
    },
    {
      "cell_type": "code",
      "metadata": {
        "id": "w4Q6ksW7BKli",
        "colab": {
          "base_uri": "https://localhost:8080/",
          "height": 264
        },
        "outputId": "ae021f2a-5388-4f07-eb3d-894e449eaa6b"
      },
      "source": [
        "hist = plt.hist(iris['PetalLengthCm'], bins = 25, color = 'skyblue')"
      ],
      "execution_count": null,
      "outputs": [
        {
          "output_type": "display_data",
          "data": {
            "image/png": "[encoded data removed]",
            "text/plain": [
              "<Figure size 432x288 with 1 Axes>"
            ]
          },
          "metadata": {
            "tags": [],
            "needs_background": "light"
          }
        }
      ]
    },
    {
      "cell_type": "markdown",
      "metadata": {
        "id": "ELZG3N2ZB_lk"
      },
      "source": [
        "> Bins option: 도수분포표의 계급 구간을 얼마로 잡을 것인가를 의미"
      ]
    },
    {
      "cell_type": "markdown",
      "metadata": {
        "id": "QXP5_RrrByll"
      },
      "source": [
        "![캡처.PNG](data:image/png;base64,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)"
      ]
    },
    {
      "cell_type": "code",
      "metadata": {
        "id": "u4RZkn0AB1P6",
        "colab": {
          "base_uri": "https://localhost:8080/",
          "height": 513
        },
        "outputId": "7b09df8b-6a6f-4a95-c0a8-781affaf50a6"
      },
      "source": [
        "hist = plt.hist(iris['PetalLengthCm'], bins = 25, color = 'gray', density = True)\n",
        "plt.show()\n",
        "hist = plt.hist(iris['PetalLengthCm'], bins = 25, color = 'gray', density = False)\n",
        "plt.show()"
      ],
      "execution_count": null,
      "outputs": [
        {
          "output_type": "display_data",
          "data": {
            "image/png": "[encoded data removed]",
            "text/plain": [
              "<Figure size 432x288 with 1 Axes>"
            ]
          },
          "metadata": {
            "tags": [],
            "needs_background": "light"
          }
        },
        {
          "output_type": "display_data",
          "data": {
            "image/png": "[encoded data removed]",
            "text/plain": [
              "<Figure size 432x288 with 1 Axes>"
            ]
          },
          "metadata": {
            "tags": [],
            "needs_background": "light"
          }
        }
      ]
    },
    {
      "cell_type": "markdown",
      "metadata": {
        "id": "FNaslA2SDMIF"
      },
      "source": [
        "[확률 밀도 함수의 이해](https://m.blog.naver.com/PostView.nhn?blogId=oyuniee&logNo=221348849851&proxyReferer=https:%2F%2Fwww.google.com%2F)"
      ]
    },
    {
      "cell_type": "code",
      "metadata": {
        "id": "17xATdWwDVwv",
        "colab": {
          "base_uri": "https://localhost:8080/",
          "height": 312
        },
        "outputId": "42240c9a-7cc7-4381-f7c6-9f5a2faeab10"
      },
      "source": [
        "hist = plt.hist(iris['PetalLengthCm'], bins = 25, color = 'gray', density = True)\n",
        "plt.title('Histogram')\n",
        "plt.xlabel('PetalLengthCm')\n",
        "plt.ylabel('Density')"
      ],
      "execution_count": null,
      "outputs": [
        {
          "output_type": "execute_result",
          "data": {
            "text/plain": [
              "Text(0, 0.5, 'Density')"
            ]
          },
          "metadata": {
            "tags": []
          },
          "execution_count": 28
        },
        {
          "output_type": "display_data",
          "data": {
            "image/png": "[encoded data removed]",
            "text/plain": [
              "<Figure size 432x288 with 1 Axes>"
            ]
          },
          "metadata": {
            "tags": [],
            "needs_background": "light"
          }
        }
      ]
    },
    {
      "cell_type": "markdown",
      "metadata": {
        "id": "isya9rbXFL2D"
      },
      "source": [
        "* 종별 Histogram 그리기"
      ]
    },
    {
      "cell_type": "code",
      "metadata": {
        "id": "MS0q50HUFKPV"
      },
      "source": [
        "ver = iris.loc[iris['Species']==idx[0],:]\n",
        "vir = iris.loc[iris['Species']==idx[1],:]\n",
        "seto = iris.loc[iris['Species']==idx[2],:]\n"
      ],
      "execution_count": null,
      "outputs": []
    },
    {
      "cell_type": "code",
      "metadata": {
        "id": "WoDCQ7ODFfFH",
        "colab": {
          "base_uri": "https://localhost:8080/",
          "height": 317
        },
        "outputId": "31f4deed-fd4f-466d-8b52-ea932b9f72cd"
      },
      "source": [
        "plt.hist(ver['PetalLengthCm'], bins = 10, color = 'gray', density = False, alpha=0.5)\n",
        "plt.hist(vir['PetalLengthCm'], bins = 10, color = 'red', density = False, alpha=0.5)\n",
        "plt.hist(seto['PetalLengthCm'], bins = 10, color = 'skyblue', density = False, alpha=0.5)"
      ],
      "execution_count": null,
      "outputs": [
        {
          "output_type": "execute_result",
          "data": {
            "text/plain": [
              "(array([ 1.,  5., 12.,  4.,  9.,  8.,  5.,  2.,  1.,  3.]),\n",
              " array([4.5 , 4.74, 4.98, 5.22, 5.46, 5.7 , 5.94, 6.18, 6.42, 6.66, 6.9 ]),\n",
              " <a list of 10 Patch objects>)"
            ]
          },
          "metadata": {
            "tags": []
          },
          "execution_count": 127
        },
        {
          "output_type": "display_data",
          "data": {
            "image/png": "[encoded data removed]",
            "text/plain": [
              "<Figure size 432x288 with 1 Axes>"
            ]
          },
          "metadata": {
            "tags": [],
            "needs_background": "light"
          }
        }
      ]
    },
    {
      "cell_type": "code",
      "metadata": {
        "id": "_wQVeVYMG8pU",
        "colab": {
          "base_uri": "https://localhost:8080/",
          "height": 282
        },
        "outputId": "d79cb669-e021-42d9-ecb9-17ecb863962a"
      },
      "source": [
        "plt.hist(ver['PetalLengthCm'], bins = 10, color = 'gray', density = False, alpha=0.7)\n",
        "plt.hist(vir['PetalLengthCm'], bins = 10, color = 'red', density = False, alpha=0.7)\n",
        "plt.hist(seto['PetalLengthCm'], bins = 10, color = 'skyblue', density = False, alpha=0.7)\n",
        "labels= [\"Versicolor\",\"Virginica\",\"Setosa\"]\n",
        "plt.legend(labels)"
      ],
      "execution_count": null,
      "outputs": [
        {
          "output_type": "execute_result",
          "data": {
            "text/plain": [
              "<matplotlib.legend.Legend at 0x7fbd39c17dd8>"
            ]
          },
          "metadata": {
            "tags": []
          },
          "execution_count": 128
        },
        {
          "output_type": "display_data",
          "data": {
            "image/png": "[encoded data removed]",
            "text/plain": [
              "<Figure size 432x288 with 1 Axes>"
            ]
          },
          "metadata": {
            "tags": [],
            "needs_background": "light"
          }
        }
      ]
    },
    {
      "cell_type": "code",
      "metadata": {
        "id": "uszc5XeLJfie",
        "colab": {
          "base_uri": "https://localhost:8080/",
          "height": 296
        },
        "outputId": "a8e580e5-cadf-4d39-fe1f-b454d3e238f9"
      },
      "source": [
        "sns.distplot(iris['PetalLengthCm'],bins = 100, color = \"skyblue\")"
      ],
      "execution_count": null,
      "outputs": [
        {
          "output_type": "execute_result",
          "data": {
            "text/plain": [
              "<matplotlib.axes._subplots.AxesSubplot at 0x7fbd39cfe5c0>"
            ]
          },
          "metadata": {
            "tags": []
          },
          "execution_count": 131
        },
        {
          "output_type": "display_data",
          "data": {
            "image/png": "[encoded data removed]",
            "text/plain": [
              "<Figure size 432x288 with 1 Axes>"
            ]
          },
          "metadata": {
            "tags": [],
            "needs_background": "light"
          }
        }
      ]
    },
    {
      "cell_type": "code",
      "metadata": {
        "id": "gQbSE_WvKWib",
        "colab": {
          "base_uri": "https://localhost:8080/",
          "height": 296
        },
        "outputId": "4ec90b7e-d1f7-48db-ae8c-bbf03f24cca7"
      },
      "source": [
        "sns.distplot(iris['PetalLengthCm'],bins = 25, color = \"darkblue\", hist = False)"
      ],
      "execution_count": null,
      "outputs": [
        {
          "output_type": "execute_result",
          "data": {
            "text/plain": [
              "<matplotlib.axes._subplots.AxesSubplot at 0x7fbd3a0c9e80>"
            ]
          },
          "metadata": {
            "tags": []
          },
          "execution_count": 132
        },
        {
          "output_type": "display_data",
          "data": {
            "image/png": "[encoded data removed]",
            "text/plain": [
              "<Figure size 432x288 with 1 Axes>"
            ]
          },
          "metadata": {
            "tags": [],
            "needs_background": "light"
          }
        }
      ]
    },
    {
      "cell_type": "code",
      "metadata": {
        "id": "DKHIPtNvJ085",
        "colab": {
          "base_uri": "https://localhost:8080/",
          "height": 296
        },
        "outputId": "d5584770-64a5-41f1-feb5-e6fb89c88ace"
      },
      "source": [
        "sns.distplot(ver['PetalLengthCm'], bins = 10, color = 'gray', hist=False)\n",
        "sns.distplot(vir['PetalLengthCm'], bins = 10, color = 'red', hist=False)\n",
        "sns.distplot(seto['PetalLengthCm'], bins = 10, color = 'skyblue', hist=False)"
      ],
      "execution_count": null,
      "outputs": [
        {
          "output_type": "execute_result",
          "data": {
            "text/plain": [
              "<matplotlib.axes._subplots.AxesSubplot at 0x7fbd3966f940>"
            ]
          },
          "metadata": {
            "tags": []
          },
          "execution_count": 134
        },
        {
          "output_type": "display_data",
          "data": {
            "image/png": "[encoded data removed]",
            "text/plain": [
              "<Figure size 432x288 with 1 Axes>"
            ]
          },
          "metadata": {
            "tags": [],
            "needs_background": "light"
          }
        }
      ]
    },
    {
      "cell_type": "markdown",
      "metadata": {
        "id": "JInWTvojKrFX"
      },
      "source": [
        "* 가로 및 세로선 그리기"
      ]
    },
    {
      "cell_type": "code",
      "metadata": {
        "id": "0L3tJt35KQu3",
        "colab": {
          "base_uri": "https://localhost:8080/",
          "height": 282
        },
        "outputId": "cf36bb86-7044-4946-fa82-c4869289f98b"
      },
      "source": [
        "plt.axhline(y=10, color='r', linewidth=2)"
      ],
      "execution_count": null,
      "outputs": [
        {
          "output_type": "execute_result",
          "data": {
            "text/plain": [
              "<matplotlib.lines.Line2D at 0x7fbd39552a90>"
            ]
          },
          "metadata": {
            "tags": []
          },
          "execution_count": 136
        },
        {
          "output_type": "display_data",
          "data": {
            "image/png": "[encoded data removed]",
            "text/plain": [
              "<Figure size 432x288 with 1 Axes>"
            ]
          },
          "metadata": {
            "tags": [],
            "needs_background": "light"
          }
        }
      ]
    },
    {
      "cell_type": "code",
      "metadata": {
        "id": "gqex5SdWKywR",
        "colab": {
          "base_uri": "https://localhost:8080/",
          "height": 286
        },
        "outputId": "bb2cfb45-5787-453f-ce3d-3df404c8e533"
      },
      "source": [
        "plt.axvline(x=10, color='r', linewidth=1)"
      ],
      "execution_count": null,
      "outputs": [
        {
          "output_type": "execute_result",
          "data": {
            "text/plain": [
              "<matplotlib.lines.Line2D at 0x7fbd3caffc50>"
            ]
          },
          "metadata": {
            "tags": []
          },
          "execution_count": 72
        },
        {
          "output_type": "display_data",
          "data": {
            "image/png": "[encoded data removed]",
            "text/plain": [
              "<Figure size 432x288 with 1 Axes>"
            ]
          },
          "metadata": {
            "tags": [],
            "needs_background": "light"
          }
        }
      ]
    },
    {
      "cell_type": "code",
      "metadata": {
        "id": "Ny7IPX7RK45-",
        "colab": {
          "base_uri": "https://localhost:8080/",
          "height": 264
        },
        "outputId": "1cac4a23-59c2-4618-e07e-4e8ce48d4c30"
      },
      "source": [
        "for i in range(10):\n",
        "  plt.axhline(y=3*i, color='gray', linewidth=1)\n",
        "  plt.axvline(x=3*i, color='gray', linewidth=1)"
      ],
      "execution_count": null,
      "outputs": [
        {
          "output_type": "display_data",
          "data": {
            "image/png": "[encoded data removed]",
            "text/plain": [
              "<Figure size 432x288 with 1 Axes>"
            ]
          },
          "metadata": {
            "tags": [],
            "needs_background": "light"
          }
        }
      ]
    },
    {
      "cell_type": "code",
      "metadata": {
        "id": "700DhJ3eLtcV",
        "colab": {
          "base_uri": "https://localhost:8080/",
          "height": 268
        },
        "outputId": "e1057c85-0e3b-426e-d62e-a67037ce4856"
      },
      "source": [
        "plt.grid()"
      ],
      "execution_count": null,
      "outputs": [
        {
          "output_type": "display_data",
          "data": {
            "image/png": "[encoded data removed]",
            "text/plain": [
              "<Figure size 432x288 with 1 Axes>"
            ]
          },
          "metadata": {
            "tags": [],
            "needs_background": "light"
          }
        }
      ]
    },
    {
      "cell_type": "code",
      "metadata": {
        "id": "KBt8JbXZLzcM",
        "colab": {
          "base_uri": "https://localhost:8080/",
          "height": 264
        },
        "outputId": "5102fe85-b302-4aa7-8ca7-cb8ebdbed60a"
      },
      "source": [
        "for i in range(10):\n",
        "  plt.axhline(y=2*i, color='gray', linewidth=1)\n",
        "  plt.axvline(x=2*i, color='gray', linewidth=1)\n",
        "\n",
        "for i in range(10):\n",
        "  plt.scatter(2*i,2*i)"
      ],
      "execution_count": null,
      "outputs": [
        {
          "output_type": "display_data",
          "data": {
            "image/png": "[encoded data removed]",
            "text/plain": [
              "<Figure size 432x288 with 1 Axes>"
            ]
          },
          "metadata": {
            "tags": [],
            "needs_background": "light"
          }
        }
      ]
    },
    {
      "cell_type": "markdown",
      "metadata": {
        "id": "MCEIKopbMJRs"
      },
      "source": [
        "* 가로 세로 선을 이용해서 히스토그램에 평균 선 추가하기"
      ]
    },
    {
      "cell_type": "code",
      "metadata": {
        "id": "vrj7gneOMGIG",
        "colab": {
          "base_uri": "https://localhost:8080/",
          "height": 34
        },
        "outputId": "593f54d2-4c29-4c6c-c84e-6b8be8764e2b"
      },
      "source": [
        "mean = iris['PetalLengthCm'].mean()\n",
        "print(mean)"
      ],
      "execution_count": null,
      "outputs": [
        {
          "output_type": "stream",
          "text": [
            "3.7586666666666693\n"
          ],
          "name": "stdout"
        }
      ]
    },
    {
      "cell_type": "code",
      "metadata": {
        "id": "QDPix9krMYj1",
        "colab": {
          "base_uri": "https://localhost:8080/",
          "height": 282
        },
        "outputId": "e255db0c-80a9-41ee-98c8-7f03794b483a"
      },
      "source": [
        "hist = plt.hist(iris['PetalLengthCm'], bins = 25, color = 'gray', density = True)\n",
        "plt.axvline(x=mean, color='blue', linewidth=1)"
      ],
      "execution_count": null,
      "outputs": [
        {
          "output_type": "execute_result",
          "data": {
            "text/plain": [
              "<matplotlib.lines.Line2D at 0x7fbd39cb7f60>"
            ]
          },
          "metadata": {
            "tags": []
          },
          "execution_count": 86
        },
        {
          "output_type": "display_data",
          "data": {
            "image/png": "[encoded data removed]",
            "text/plain": [
              "<Figure size 432x288 with 1 Axes>"
            ]
          },
          "metadata": {
            "tags": [],
            "needs_background": "light"
          }
        }
      ]
    },
    {
      "cell_type": "markdown",
      "metadata": {
        "id": "HjAj_Go3MqrL"
      },
      "source": [
        "#과제\n",
        "\n",
        "> [과제1] SNS 라이브러리를 이용하여 PetalLengthCm 변수 이외의 변수에 대해서 종 별로 구별 지어 histogram을 그리시오.\n",
        "\n",
        ">> 하나의 플랏에는 각 종별 변수가 구별 될 수 있게 상이한 색을 사용하여 다음 변수에 대해서 3장의 히스토그램을 그리기 (SepalLengthCm', 'SepalWidthCm', 'PetalWidthCm')\n",
        "\n",
        "> [과제2] 각 종에 따른 변수별 평균을 계산한 뒤, 각 histogram에 표시하시오."
      ]
    },
    {
      "cell_type": "markdown",
      "metadata": {
        "id": "4A4UT9hbOOk0"
      },
      "source": [
        "[matplotlib 가이드](https://matplotlib.org/)"
      ]
    },
    {
      "cell_type": "markdown",
      "metadata": {
        "id": "MOtSTUsDN0Ts"
      },
      "source": [
        "[seaborn 가이드](https://seaborn.pydata.org/)"
      ]
    }
  ]
}